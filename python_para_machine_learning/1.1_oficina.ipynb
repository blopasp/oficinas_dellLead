{
 "cells": [
  {
   "cell_type": "markdown",
   "id": "6e3aa098",
   "metadata": {},
   "source": [
    "## Oficina Aula 1.1\n",
    "\n",
    "Depois de aprender bastante sobre programação funcional nesta aula, chegou o momento\n",
    "de colocar seus conhecimentos em prática para resolver o problema proposto nesta oficina. \n",
    "Para isso, imagine o seguinte caso:\n",
    "\n",
    "    Você foi chamado para trabalhar como novo programador Python para o aplicativo Spotify,\n",
    "    analisando as avaliações de músicas pelos usuários. O seu chefe está muito entusiasmado\n",
    "    com a sua chegada e já pensou em várias perguntas para você responder. Ele coletou \n",
    "    diversas avaliações dos gêneros musicais Rock e Pop.\n",
    "    Em cada avaliação o usuário pode dar uma nota em quantidade de estrelas para uma música,\n",
    "    de 1 a 5. Ele quer que você mapeie as avaliações numéricas em categorias: entre 0 e 1 \n",
    "    estrelas é uma música ruim, entre 2 e 3 é uma música mediana e entre 4 e 5 são para as\n",
    "    músicas boas. O seu papel é dizer para o seu chefe quantas músicas ruins, medianas e \n",
    "    boas existem para cada gênero: Rock e Pop.\n",
    "\n",
    "    Além disso, ele quer saber se existe alguma música mediana de Rock e se todas as músicas\n",
    "    de Pop são boas. Por fim, quer saber qual gênero musical teve uma maior quantidade de \n",
    "    músicas boas. Abaixo seguem as notas de cada gênero.\n",
    "\n",
    "    notas_rock = [5, 1, 4, 0, 2, 5, 2, 1, 0, 5, 5, 3, 5, 2, 5, 5, 3, 5, 4, 4]\n",
    "    notas_pop = [3, 2, 5, 1, 2, 1, 4, 1, 5, 0, 4, 2, 1, 2, 5, 2, 4, 4, 0, 1]\n",
    "\n",
    "Pronto, com essas informações você pode começar a desenvolver um programa em Python capaz de\n",
    "responder as perguntas do seu chefe.\n",
    "\n",
    "Boa prática!"
   ]
  },
  {
   "cell_type": "markdown",
   "id": "7b67565d",
   "metadata": {},
   "source": [
    "## Resolução"
   ]
  },
  {
   "cell_type": "markdown",
   "id": "7cda35d0",
   "metadata": {},
   "source": [
    "#### Funcao para avaliar as notas em ruim, mediana ou boa"
   ]
  },
  {
   "cell_type": "code",
   "execution_count": 1,
   "id": "74d8e016",
   "metadata": {},
   "outputs": [],
   "source": [
    "def avaliacao_musicas(x):\n",
    "    if x >= 4:\n",
    "        return 'boa'\n",
    "    elif x >=3:\n",
    "        return 'mediana'\n",
    "    else:\n",
    "        return 'ruim'"
   ]
  },
  {
   "cell_type": "markdown",
   "id": "3ab8e640",
   "metadata": {},
   "source": [
    "#### Listas de Notas recebidas"
   ]
  },
  {
   "cell_type": "code",
   "execution_count": 2,
   "id": "49d663cd",
   "metadata": {},
   "outputs": [],
   "source": [
    "notas_rock = [5, 1, 4, 0, 2, 5, 2, 1, 0, 5, 5, 3, 5, 2, 5, 5, 3, 5, 4, 4]\n",
    "notas_pop = [3, 2, 5, 1, 2, 1, 4, 1, 5, 0, 4, 2, 1, 2, 5, 2, 4, 4, 0, 1]"
   ]
  },
  {
   "cell_type": "markdown",
   "id": "4394c8c1",
   "metadata": {},
   "source": [
    "#### Aplicando função avaliacao_musicas"
   ]
  },
  {
   "cell_type": "code",
   "execution_count": 5,
   "id": "67938ed3",
   "metadata": {},
   "outputs": [],
   "source": [
    "notas_rock_avaliadas = list(map(avaliacao_musicas, notas_rock))\n",
    "notas_pop_avaliadas = list(map(avaliacao_musicas, notas_pop))"
   ]
  },
  {
   "cell_type": "markdown",
   "id": "057f954b",
   "metadata": {},
   "source": [
    "#### Total de musicas de ROCK de acordo com a categoria: bom, mediana e ruim"
   ]
  },
  {
   "cell_type": "code",
   "execution_count": 12,
   "id": "7a815635",
   "metadata": {},
   "outputs": [
    {
     "name": "stdout",
     "output_type": "stream",
     "text": [
      "Rock Bom: 11\n",
      "Rock Mediano: 2\n",
      "Rock Ruim: 7\n"
     ]
    }
   ],
   "source": [
    "rock_ruim = list(filter(lambda avaliacao: avaliacao == 'ruim', notas_rock_avaliadas))\n",
    "rock_mediana = list(filter(lambda avaliacao: avaliacao == 'mediana', notas_rock_avaliadas))\n",
    "rock_boa = list(filter(lambda avaliacao: avaliacao == 'boa', notas_rock_avaliadas))\n",
    "\n",
    "print(f'Rock Bom: {len(rock_boa)}')\n",
    "print(f'Rock Mediano: {len(rock_mediana)}')\n",
    "print(f'Rock Ruim: {len(rock_ruim)}')"
   ]
  },
  {
   "cell_type": "markdown",
   "id": "538b55b4",
   "metadata": {},
   "source": [
    "#### Total de musicas de POP de acordo com a categoria: bom, mediana e ruim"
   ]
  },
  {
   "cell_type": "code",
   "execution_count": 13,
   "id": "0f5d15f7",
   "metadata": {},
   "outputs": [
    {
     "name": "stdout",
     "output_type": "stream",
     "text": [
      "Pop Bom: 7\n",
      "Pop Mediano: 1\n",
      "Pop Ruim: 12\n"
     ]
    }
   ],
   "source": [
    "pop_ruim = list(filter(lambda avaliacao: avaliacao == 'ruim', notas_pop_avaliadas))\n",
    "pop_mediana = list(filter(lambda avaliacao: avaliacao == 'mediana', notas_pop_avaliadas))\n",
    "pop_boa = list(filter(lambda avaliacao: avaliacao == 'boa', notas_pop_avaliadas))\n",
    "\n",
    "print(f'Pop Bom: {len(pop_boa)}')\n",
    "print(f'Pop Mediano: {len(pop_mediana)}')\n",
    "print(f'Pop Ruim: {len(pop_ruim)}')"
   ]
  },
  {
   "cell_type": "markdown",
   "id": "71c6fc29",
   "metadata": {},
   "source": [
    "#### Notas avaliadas em formato booleano, seguindo a linha do problema proposto."
   ]
  },
  {
   "cell_type": "code",
   "execution_count": 4,
   "id": "5929a194",
   "metadata": {},
   "outputs": [],
   "source": [
    "notas_rock_medianas_booleano = list(map(lambda nota: nota == 'mediana', notas_rock_avaliadas))\n",
    "notas_pop_boas_booleano = list(map(lambda nota: nota == 'boa', notas_pop_avaliadas))"
   ]
  },
  {
   "cell_type": "markdown",
   "id": "5a62af5b",
   "metadata": {},
   "source": [
    "#### Existe alguma música mediana de Rock?"
   ]
  },
  {
   "cell_type": "code",
   "execution_count": 14,
   "id": "3a78c95d",
   "metadata": {},
   "outputs": [
    {
     "name": "stdout",
     "output_type": "stream",
     "text": [
      "True\n"
     ]
    }
   ],
   "source": [
    "print(any(notas_rock_medianas_booleano))"
   ]
  },
  {
   "cell_type": "markdown",
   "id": "d4967ad4",
   "metadata": {},
   "source": [
    "#### Todas as músicas de Pop são boas?"
   ]
  },
  {
   "cell_type": "code",
   "execution_count": 15,
   "id": "01372114",
   "metadata": {},
   "outputs": [
    {
     "name": "stdout",
     "output_type": "stream",
     "text": [
      "False\n"
     ]
    }
   ],
   "source": [
    "print(all(notas_pop_boas_booleano))"
   ]
  }
 ],
 "metadata": {
  "kernelspec": {
   "display_name": "Python 3",
   "language": "python",
   "name": "python3"
  },
  "language_info": {
   "codemirror_mode": {
    "name": "ipython",
    "version": 3
   },
   "file_extension": ".py",
   "mimetype": "text/x-python",
   "name": "python",
   "nbconvert_exporter": "python",
   "pygments_lexer": "ipython3",
   "version": "3.8.8"
  }
 },
 "nbformat": 4,
 "nbformat_minor": 5
}
