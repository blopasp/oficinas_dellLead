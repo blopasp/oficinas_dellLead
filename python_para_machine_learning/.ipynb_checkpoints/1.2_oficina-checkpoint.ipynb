{
 "cells": [
  {
   "cell_type": "markdown",
   "id": "6e3aa098",
   "metadata": {},
   "source": [
    "## Oficina Aula 1.2\n",
    "\n",
    "Geralmente, os logs são configurados para registrar as mensagens de maior gravidade. Em contrapartida, o modo debug é utilizado somente quando o programa apresenta falhas e é necessário fazer uma auditoria para encontrar o problema.\n",
    "\n",
    "A seguir, considere o caso descrito para resolver a questão.\n",
    "\n",
    "Imagine que você é o cientista de dados de uma grande empresa e, como um bom colaborador, decidiu analisar os dados de log de um programa essencial da empresa, com o intuito de avaliar como o programa se comportou durante um ano de funcionamento.\n",
    "\n",
    "Ao receber o arquivo de log, você percebeu que há dados de pelo menos um ano inteiro e que o arquivo possui 4 Gigabytes de tamanho. Então, você decidiu utilizar expressão regular para avaliar aquele comportamento.\n",
    "\n",
    "Para isso, você precisou construir um código que informasse a quantidade de erros ocorridos e quais os horários em que mais ocorrem erro. Estas informações serão uteis para lhe ajudar a investigar a causa do problema.\n",
    "\n",
    "Sabendo que o log possui uma formatação clara (Dia-Mês-Ano Hora:Minuto:Segundo:Milesimos_de_segundos | Nivel_de_gravidade -> Mensagem), utilize a string a seguir como exemplo para fazer o seu código. Ao final, envie seu código em Python, ou seja, um arquivo com a extensão ‘py’, para avaliarmos como você resolveu esse problema.\n",
    "\n",
    "<p>2020-05-10 20:42:54,687 | INFO -> O programa foi iniciado</p>\n",
    "<p>2020-05-11 00:09:52,532 | ERROR -> Erro não esperado\n",
    "<p>2020-05-11 09:01:10,812 | INFO -> O usuário utilizou o sistema\n",
    "<p>2020-05-11 19:06:13,609 | INFO -> O usuário utilizou o sistema\n",
    "<p>2020-05-11 20:46:35,271 | ERROR -> Erro não esperado\n",
    "<p>2020-05-12 08:14:59,895 | ERROR -> Erro não esperado\n",
    "<p>2020-05-12 11:33:59,700 | INFO -> O usuário utilizou o sistema\n",
    "<p>2020-05-13 10:20:14,673 | INFO -> O usuário utilizou o sistema\n",
    "2020-05-13 16:58:10,298 | WARNING -> O usuário tentou fazer uma operação invalida\n",
    "2020-05-14 03:55:25,383 | INFO -> O usuário utilizou o sistema\n",
    "2020-05-15 02:59:29,002 | INFO -> O usuário utilizou o sistema\n",
    "2020-05-15 08:40:33,776 | ERROR -> Erro não esperado\n",
    "2020-05-15 13:45:29,089 | WARNING -> O usuário tentou fazer uma operação invalida"
   ]
  },
  {
   "cell_type": "markdown",
   "id": "7b67565d",
   "metadata": {},
   "source": [
    "## Resolução"
   ]
  },
  {
   "cell_type": "markdown",
   "id": "7cda35d0",
   "metadata": {},
   "source": [
    "#### Funcao para avaliar as notas em ruim, mediana ou boa"
   ]
  },
  {
   "cell_type": "code",
   "execution_count": 1,
   "id": "74d8e016",
   "metadata": {},
   "outputs": [],
   "source": [
    "def avaliacao_musicas(x):\n",
    "    if x >= 4:\n",
    "        return 'boa'\n",
    "    elif x >=3:\n",
    "        return 'mediana'\n",
    "    else:\n",
    "        return 'ruim'"
   ]
  },
  {
   "cell_type": "markdown",
   "id": "3ab8e640",
   "metadata": {},
   "source": [
    "#### Listas de Notas recebidas"
   ]
  },
  {
   "cell_type": "code",
   "execution_count": 2,
   "id": "49d663cd",
   "metadata": {},
   "outputs": [],
   "source": [
    "notas_rock = [5, 1, 4, 0, 2, 5, 2, 1, 0, 5, 5, 3, 5, 2, 5, 5, 3, 5, 4, 4]\n",
    "notas_pop = [3, 2, 5, 1, 2, 1, 4, 1, 5, 0, 4, 2, 1, 2, 5, 2, 4, 4, 0, 1]"
   ]
  },
  {
   "cell_type": "markdown",
   "id": "4394c8c1",
   "metadata": {},
   "source": [
    "#### Aplicando função avaliacao_musicas"
   ]
  },
  {
   "cell_type": "code",
   "execution_count": 5,
   "id": "67938ed3",
   "metadata": {},
   "outputs": [],
   "source": [
    "notas_rock_avaliadas = list(map(avaliacao_musicas, notas_rock))\n",
    "notas_pop_avaliadas = list(map(avaliacao_musicas, notas_pop))"
   ]
  },
  {
   "cell_type": "markdown",
   "id": "057f954b",
   "metadata": {},
   "source": [
    "#### Total de musicas de ROCK de acordo com a categoria: bom, mediana e ruim"
   ]
  },
  {
   "cell_type": "code",
   "execution_count": 12,
   "id": "7a815635",
   "metadata": {},
   "outputs": [
    {
     "name": "stdout",
     "output_type": "stream",
     "text": [
      "Rock Bom: 11\n",
      "Rock Mediano: 2\n",
      "Rock Ruim: 7\n"
     ]
    }
   ],
   "source": [
    "rock_ruim = list(filter(lambda avaliacao: avaliacao == 'ruim', notas_rock_avaliadas))\n",
    "rock_mediana = list(filter(lambda avaliacao: avaliacao == 'mediana', notas_rock_avaliadas))\n",
    "rock_boa = list(filter(lambda avaliacao: avaliacao == 'boa', notas_rock_avaliadas))\n",
    "\n",
    "print(f'Rock Bom: {len(rock_boa)}')\n",
    "print(f'Rock Mediano: {len(rock_mediana)}')\n",
    "print(f'Rock Ruim: {len(rock_ruim)}')"
   ]
  },
  {
   "cell_type": "markdown",
   "id": "538b55b4",
   "metadata": {},
   "source": [
    "#### Total de musicas de POP de acordo com a categoria: bom, mediana e ruim"
   ]
  },
  {
   "cell_type": "code",
   "execution_count": 13,
   "id": "0f5d15f7",
   "metadata": {},
   "outputs": [
    {
     "name": "stdout",
     "output_type": "stream",
     "text": [
      "Pop Bom: 7\n",
      "Pop Mediano: 1\n",
      "Pop Ruim: 12\n"
     ]
    }
   ],
   "source": [
    "pop_ruim = list(filter(lambda avaliacao: avaliacao == 'ruim', notas_pop_avaliadas))\n",
    "pop_mediana = list(filter(lambda avaliacao: avaliacao == 'mediana', notas_pop_avaliadas))\n",
    "pop_boa = list(filter(lambda avaliacao: avaliacao == 'boa', notas_pop_avaliadas))\n",
    "\n",
    "print(f'Pop Bom: {len(pop_boa)}')\n",
    "print(f'Pop Mediano: {len(pop_mediana)}')\n",
    "print(f'Pop Ruim: {len(pop_ruim)}')"
   ]
  },
  {
   "cell_type": "markdown",
   "id": "71c6fc29",
   "metadata": {},
   "source": [
    "#### Notas avaliadas em formato booleano, seguindo a linha do problema proposto."
   ]
  },
  {
   "cell_type": "code",
   "execution_count": 4,
   "id": "5929a194",
   "metadata": {},
   "outputs": [],
   "source": [
    "notas_rock_medianas_booleano = list(map(lambda nota: nota == 'mediana', notas_rock_avaliadas))\n",
    "notas_pop_boas_booleano = list(map(lambda nota: nota == 'boa', notas_pop_avaliadas))"
   ]
  },
  {
   "cell_type": "markdown",
   "id": "5a62af5b",
   "metadata": {},
   "source": [
    "#### Existe alguma música mediana de Rock?"
   ]
  },
  {
   "cell_type": "code",
   "execution_count": 14,
   "id": "3a78c95d",
   "metadata": {},
   "outputs": [
    {
     "name": "stdout",
     "output_type": "stream",
     "text": [
      "True\n"
     ]
    }
   ],
   "source": [
    "print(any(notas_rock_medianas_booleano))"
   ]
  },
  {
   "cell_type": "markdown",
   "id": "d4967ad4",
   "metadata": {},
   "source": [
    "#### Todas as músicas de Pop são boas?"
   ]
  },
  {
   "cell_type": "code",
   "execution_count": 15,
   "id": "01372114",
   "metadata": {},
   "outputs": [
    {
     "name": "stdout",
     "output_type": "stream",
     "text": [
      "False\n"
     ]
    }
   ],
   "source": [
    "print(all(notas_pop_boas_booleano))"
   ]
  }
 ],
 "metadata": {
  "kernelspec": {
   "display_name": "Python 3",
   "language": "python",
   "name": "python3"
  },
  "language_info": {
   "codemirror_mode": {
    "name": "ipython",
    "version": 3
   },
   "file_extension": ".py",
   "mimetype": "text/x-python",
   "name": "python",
   "nbconvert_exporter": "python",
   "pygments_lexer": "ipython3",
   "version": "3.8.8"
  }
 },
 "nbformat": 4,
 "nbformat_minor": 5
}
