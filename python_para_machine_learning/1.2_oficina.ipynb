{
 "cells": [
  {
   "cell_type": "markdown",
   "id": "6e3aa098",
   "metadata": {},
   "source": [
    "## Oficina Aula 1.2\n",
    "\n",
    "Geralmente, os logs são configurados para registrar as mensagens de maior gravidade. Em contrapartida, o modo debug é utilizado somente quando o programa apresenta falhas e é necessário fazer uma auditoria para encontrar o problema.\n",
    "\n",
    "A seguir, considere o caso descrito para resolver a questão.\n",
    "\n",
    "Imagine que você é o cientista de dados de uma grande empresa e, como um bom colaborador, decidiu analisar os dados de log de um programa essencial da empresa, com o intuito de avaliar como o programa se comportou durante um ano de funcionamento.\n",
    "\n",
    "Ao receber o arquivo de log, você percebeu que há dados de pelo menos um ano inteiro e que o arquivo possui 4 Gigabytes de tamanho. Então, você decidiu utilizar expressão regular para avaliar aquele comportamento.\n",
    "\n",
    "Para isso, você precisou construir um código que informasse a quantidade de erros ocorridos e quais os horários em que mais ocorrem erro. Estas informações serão uteis para lhe ajudar a investigar a causa do problema.\n",
    "\n",
    "Sabendo que o log possui uma formatação clara (Dia-Mês-Ano Hora:Minuto:Segundo:Milesimos_de_segundos | Nivel_de_gravidade -> Mensagem), utilize a string a seguir como exemplo para fazer o seu código. Ao final, envie seu código em Python, ou seja, um arquivo com a extensão ‘py’, para avaliarmos como você resolveu esse problema.\n",
    "\n",
    "<p>2020-05-10 20:42:54,687 | INFO -> O programa foi iniciado</p>\n",
    "<p>2020-05-11 00:09:52,532 | ERROR -> Erro não esperado</p>\n",
    "<p>2020-05-11 09:01:10,812 | INFO -> O usuário utilizou o sistema</p>\n",
    "<p>2020-05-11 19:06:13,609 | INFO -> O usuário utilizou o sistema</p>\n",
    "<p>2020-05-11 20:46:35,271 | ERROR -> Erro não esperado</p>\n",
    "<p>2020-05-12 08:14:59,895 | ERROR -> Erro não esperado</p>\n",
    "<p>2020-05-12 11:33:59,700 | INFO -> O usuário utilizou o sistema</p>\n",
    "<p>2020-05-13 10:20:14,673 | INFO -> O usuário utilizou o sistema</p>\n",
    "<p>2020-05-13 16:58:10,298 | WARNING -> O usuário tentou fazer uma operação invalida</p>\n",
    "<p>2020-05-14 03:55:25,383 | INFO -> O usuário utilizou o sistema</p>\n",
    "<p>2020-05-15 02:59:29,002 | INFO -> O usuário utilizou o sistema</p>\n",
    "<p>2020-05-15 08:40:33,776 | ERROR -> Erro não esperado</p>\n",
    "<p>2020-05-15 13:45:29,089 | WARNING -> O usuário tentou fazer uma operação invalida</p>"
   ]
  },
  {
   "cell_type": "markdown",
   "id": "7b67565d",
   "metadata": {},
   "source": [
    "## Resolução"
   ]
  },
  {
   "cell_type": "markdown",
   "id": "7cda35d0",
   "metadata": {},
   "source": [
    "#### Mensagem emitida pelo log"
   ]
  },
  {
   "cell_type": "code",
   "execution_count": 1,
   "id": "74d8e016",
   "metadata": {},
   "outputs": [],
   "source": [
    "msg_log = \"\"\"\n",
    "2020-05-10 20:42:54,687 | INFO -> O programa foi iniciado\n",
    "2020-05-11 00:09:52,532 | ERROR -> Erro não esperado\n",
    "2020-05-11 09:01:10,812 | INFO -> O usuário utilizou o sistema\n",
    "2020-05-11 19:06:13,609 | INFO -> O usuário utilizou o sistema\n",
    "2020-05-11 20:46:35,271 | ERROR -> Erro não esperado\n",
    "2020-05-12 08:14:59,895 | ERROR -> Erro não esperado\n",
    "2020-05-12 11:33:59,700 | INFO -> O usuário utilizou o sistema\n",
    "2020-05-13 10:20:14,673 | INFO -> O usuário utilizou o sistema\n",
    "2020-05-13 16:58:10,298 | WARNING -> O usuário tentou fazer uma operação invalida\n",
    "2020-05-14 03:55:25,383 | INFO -> O usuário utilizou o sistema\n",
    "2020-05-15 02:59:29,002 | INFO -> O usuário utilizou o sistema\n",
    "2020-05-15 08:40:33,776 | ERROR -> Erro não esperado\n",
    "2020-05-15 13:45:29,089 | WARNING -> O usuário tentou fazer uma operação invalida\n",
    "\n",
    "\"\"\""
   ]
  },
  {
   "cell_type": "markdown",
   "metadata": {},
   "source": [
    "#### Contruindo uma expressao regular para retornar o horário e a mensagem contendo ERROR"
   ]
  },
  {
   "cell_type": "code",
   "execution_count": 27,
   "metadata": {},
   "outputs": [
    {
     "name": "stdout",
     "output_type": "stream",
     "text": [
      "[' 00:09:52,532 | ERROR', ' 20:46:35,271 | ERROR', ' 08:14:59,895 | ERROR', ' 08:40:33,776 | ERROR']\n"
     ]
    }
   ],
   "source": [
    "import re\n",
    "\n",
    "erro_program = re.findall(r'\\s\\d{2}\\W\\d{2}\\W\\d{2}\\W\\d{3}\\s\\W\\s[ERROR]+', msg_log)\n",
    "\n",
    "print(erro_program)"
   ]
  },
  {
   "cell_type": "markdown",
   "metadata": {},
   "source": [
    "#### Imprimindo quantidade de ERROS"
   ]
  },
  {
   "cell_type": "code",
   "execution_count": 28,
   "metadata": {},
   "outputs": [
    {
     "name": "stdout",
     "output_type": "stream",
     "text": [
      "Quantidade de Erros: 4\n"
     ]
    }
   ],
   "source": [
    "print(f'Quantidade de Erros: {len(erro_program)}')"
   ]
  },
  {
   "cell_type": "markdown",
   "id": "3ab8e640",
   "metadata": {},
   "source": [
    "#### Horarios com maiores ocorrências"
   ]
  },
  {
   "cell_type": "code",
   "execution_count": 47,
   "id": "49d663cd",
   "metadata": {},
   "outputs": [
    {
     "name": "stdout",
     "output_type": "stream",
     "text": [
      "Horario 00h Ocorrencias: 1\n",
      "Horario 20h Ocorrencias: 1\n",
      "Horario 08h Ocorrencias: 2\n"
     ]
    }
   ],
   "source": [
    "horario_ocorrencia = [re.findall(r'\\d{2}', x)[0] for x in erro_program]\n",
    "\n",
    "count_horario = []\n",
    "\n",
    "for horario in horario_ocorrencia:\n",
    "    if horario not in [x[0] for x in count_horario]:\n",
    "        c = 0\n",
    "        for i in range(len(horario_ocorrencia)):\n",
    "            if horario == horario_ocorrencia[i]:\n",
    "                c += 1\n",
    "        count_horario.append([horario, c])\n",
    "    else: continue\n",
    "\n",
    "\n",
    "for horario in count_horario:\n",
    "    print(f'Horario {horario[0]}h Ocorrencias: {horario[1]}')"
   ]
  }
 ],
 "metadata": {
  "interpreter": {
   "hash": "98ba2b9a89a86fc6adf8ee3ba921c59a1c4fc3f7aaa670d60ffd8ff5bb1a049c"
  },
  "kernelspec": {
   "display_name": "Python 3.8.8 64-bit ('base': conda)",
   "name": "python3"
  },
  "language_info": {
   "codemirror_mode": {
    "name": "ipython",
    "version": 3
   },
   "file_extension": ".py",
   "mimetype": "text/x-python",
   "name": "python",
   "nbconvert_exporter": "python",
   "pygments_lexer": "ipython3",
   "version": "3.8.8"
  }
 },
 "nbformat": 4,
 "nbformat_minor": 5
}
